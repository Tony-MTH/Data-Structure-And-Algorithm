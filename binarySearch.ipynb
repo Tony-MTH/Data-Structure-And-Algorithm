{
 "cells": [
  {
   "cell_type": "markdown",
   "metadata": {},
   "source": [
    "# Binary Search Implementation\n",
    "\n",
    "Date: 16th July, 2019  \n",
    "Author: Anthony Nwachukwu  \n",
    "Contact: nwachukwuanthony2015@gmail.com  "
   ]
  },
  {
   "cell_type": "markdown",
   "metadata": {},
   "source": [
    "This file contains Python implementation of binary search algorithm. It returns the index of the element with the number of iterations if found or -1 and the number of iterations if not found.\n",
    "\n",
    "### Code"
   ]
  },
  {
   "cell_type": "code",
   "execution_count": 2,
   "metadata": {},
   "outputs": [],
   "source": [
    "def binary_search(input_array, value):\n",
    "    inputSize = len(input_array)\n",
    "    count = inputSize\n",
    "    c=0 #This keeps counts of the iterations\n",
    "    while inputSize != 1:\n",
    "        c+=1\n",
    "        inputSize = len(input_array)\n",
    "        index = inputSize//2\n",
    "        if value == input_array[index]:\n",
    "            return(count-1,c)\n",
    "        elif value < input_array[index]:\n",
    "            count -= len(input_array[index::])\n",
    "            input_array = input_array[0:index]  \n",
    "        else:\n",
    "            input_array = input_array[index+1::]\n",
    "    return(-1,c)"
   ]
  },
  {
   "cell_type": "markdown",
   "metadata": {},
   "source": [
    "### Test"
   ]
  },
  {
   "cell_type": "code",
   "execution_count": 3,
   "metadata": {},
   "outputs": [
    {
     "name": "stdout",
     "output_type": "stream",
     "text": [
      "(-1, 3)\n",
      "(2, 2)\n"
     ]
    }
   ],
   "source": [
    "test_list = [1,3,9,11,15,19,29]\n",
    "test_val1 = 25\n",
    "test_val2 = 3\n",
    "print (binary_search(test_list, test_val1))\n",
    "print (binary_search(test_list, test_val2))"
   ]
  },
  {
   "cell_type": "code",
   "execution_count": null,
   "metadata": {},
   "outputs": [],
   "source": []
  }
 ],
 "metadata": {
  "kernelspec": {
   "display_name": "Python 3",
   "language": "python",
   "name": "python3"
  },
  "language_info": {
   "codemirror_mode": {
    "name": "ipython",
    "version": 3
   },
   "file_extension": ".py",
   "mimetype": "text/x-python",
   "name": "python",
   "nbconvert_exporter": "python",
   "pygments_lexer": "ipython3",
   "version": "3.7.3"
  }
 },
 "nbformat": 4,
 "nbformat_minor": 2
}
